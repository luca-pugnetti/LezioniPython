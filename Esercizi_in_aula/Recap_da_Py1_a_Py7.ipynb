{
  "cells": [
    {
      "cell_type": "markdown",
      "source": [
        "#  **Esercizi di Scrittura del Codice:**\n",
        "\n",
        "1.  **Saluto Formattato con Titolo Opzionale e Controllo Input:**\n",
        "\n",
        "    *   **Richiamo Teorico:** Questa funzione combina l'uso di parametri opzionali, controlli condizionali (`if`/`elif`/`else`) e la manipolazione di stringhe.\n",
        "\n",
        "    *   **Descrizione:** Scrivi una funzione `saluto_formattato(nome, titolo=None)` che gestisce input vuoti o `None` per il nome. Se il nome è vuoto o `None`, restituisce \"Ciao, Sconosciuto!\". Altrimenti, se è presente un titolo, restituisce \"titolo. nome!\". Se il titolo non è presente, restituisce \"Ciao nome!\".\n",
        "\n",
        "    *   **Codice:**"
      ],
      "metadata": {
        "id": "lqOsvyTOvLoA"
      }
    },
    {
      "cell_type": "code",
      "source": [],
      "outputs": [],
      "execution_count": null,
      "metadata": {
        "id": "Z0ZF3ApjvLoD"
      }
    },
    {
      "cell_type": "markdown",
      "source": [
        "2.  **Analisi Avanzata di Stringhe in una Lista:**\n",
        "\n",
        "    *   **Richiamo Teorico:** Questo esercizio si concentra sull'iterazione su liste, la manipolazione di stringhe e l'uso di variabili per memorizzare informazioni.\n",
        "\n",
        "    *   **Descrizione:** Scrivi una funzione `analizza_lista(lista_stringhe)` che restituisce *cinque* valori:\n",
        "        *   La stringa più lunga (se ce ne sono di uguali restituisce la prima trovata).\n",
        "        *   La stringa più corta (se ce ne sono di uguali restituisce la prima trovata).\n",
        "        *   Il numero totale di consonanti.\n",
        "        *   Il numero totale di vocali.\n",
        "        * Una lista con le stringhe palindrome\n",
        "\n",
        "    *   **Codice:**"
      ],
      "metadata": {
        "id": "vvcvZ73RvLoF"
      }
    },
    {
      "cell_type": "code",
      "source": [],
      "outputs": [
        {
          "output_type": "stream",
          "name": "stdout",
          "text": [
            "Piu lunga: Pippo\n",
            "Piu corta: Anna\n",
            "Vocali: 10\n",
            "Consonanti: 12\n",
            "Palindrome: ['radar']\n"
          ]
        }
      ],
      "execution_count": null,
      "metadata": {
        "colab": {
          "base_uri": "https://localhost:8080/"
        },
        "id": "TcKusdefvLoG",
        "outputId": "f2d04d40-3eef-4e4b-c357-ceb71d0f47a0",
        "collapsed": true
      }
    },
    {
      "cell_type": "markdown",
      "source": [
        "3.  **Generatore e verificatore di Password Ultra-Sicure:**\n",
        "\n",
        "    *   **Richiamo teorico:** numeri casuali, liste, stringhe e cicli\n",
        "\n",
        "    *   **Descrizione:**\n",
        "     1.  Scrivi una funzione `genera_password_ultra(lunghezza, num_simboli)` che genera password casuali molto sicure:\n",
        "          - Lunghezza specificata.\n",
        "          - Almeno una maiuscola, una minuscola, un numero e una quantità num_simboli di simboli speciali (!@#$%^&*).\n",
        "          - Caratteri casuali distribuiti uniformemente (usa random.shuffle).\n",
        "          - Gestisci input non validi per lunghezza e num_simboli.\n",
        "\n",
        "     2. Scrivi la funzione verifica_password(password) controlla se una password rispetta i seguenti criteri:\n",
        "          - Lunghezza minima di 8 caratteri.\n",
        "          - Presenza di almeno una lettera maiuscola, una minuscola, un numero e un simbolo speciale."
      ],
      "metadata": {
        "id": "P-gz_IvjvLoH"
      }
    },
    {
      "cell_type": "code",
      "source": [],
      "outputs": [
        {
          "output_type": "stream",
          "name": "stdout",
          "text": [
            "Password generata: m8#m*x%#7NF*\n",
            "La password 'PasswordSicura123!' è sicura? True\n",
            "La password 'abc' è sicura? False\n",
            "Password generata corta: Input non valido\n",
            "Password generata troppi simboli: Input non valido\n",
            "Password generata parametri ok: 3H#VvD#\n",
            "La password '3H#VvD#' è sicura? False\n"
          ]
        }
      ],
      "execution_count": null,
      "metadata": {
        "colab": {
          "base_uri": "https://localhost:8080/"
        },
        "id": "6Iwsq0EuvLoH",
        "outputId": "ea7c92b1-30e0-4b11-b7a3-a4c111aea45e",
        "collapsed": true
      }
    },
    {
      "cell_type": "markdown",
      "source": [
        "4.  **Gestione di una Rubrica:**\n",
        "\n",
        "    *   **Richiamo Teorico:** Liste di liste per rappresentare dati strutturati.\n",
        "\n",
        "    *   **Descrizione:** Scrivi una funzione `gestisci_rubrica(operazione, dati=None)` che simula una rubrica. Le operazioni sono:\n",
        "\n",
        "       * \"aggiungi\": dati è un dizionario {\"nome\": ..., \"telefono\": ...}. Aggiunge il contatto alla rubrica (usa una lista per memorizzare i contatti).\n",
        "       * \"cerca\": dati è una stringa (nome da cercare). Restituisce una lista di contatti con quel nome.\n",
        "       * \"salva\": Simula il salvataggio su file (stampa la rubrica). La rubrica è memorizzata in una variabile globale.\n",
        "       \n",
        "       I contatti sono liste `[nome, telefono]` e la rubrica è una lista di queste liste.\n",
        "\n",
        "    *   **Codice:**"
      ],
      "metadata": {
        "id": "zVv03bybvLoI"
      }
    },
    {
      "cell_type": "code",
      "source": [],
      "outputs": [
        {
          "output_type": "stream",
          "name": "stdout",
          "text": [
            "Risultati ricerca Alice: [['Alice', '1234567890'], ['Alice', '5544332211']]\n",
            "Risultati ricerca Piero: []\n",
            "Alice - 1234567890\n",
            "Bob - 0987654321\n",
            "Carlo - 1122334455\n",
            "Alice - 5544332211\n",
            "Dati non validi per l'aggiunta. Devono essere due stringhe.\n",
            "Dati non validi per la ricerca. Deve essere una stringa.\n",
            "Alice - 1234567890\n",
            "Bob - 0987654321\n",
            "Carlo - 1122334455\n",
            "Alice - 5544332211\n",
            "Operazione non valida.\n"
          ]
        }
      ],
      "execution_count": null,
      "metadata": {
        "colab": {
          "base_uri": "https://localhost:8080/"
        },
        "id": "LmUfap16vLoJ",
        "outputId": "d2abf73e-0b5b-49e6-bd3a-ab1676f6fdee",
        "collapsed": true
      }
    },
    {
      "cell_type": "markdown",
      "source": [
        "5.  **Simulazione di un Semplice Gioco di Ruolo con Combattimento:** Nessuna modifica richiesta.\n",
        "\n",
        "*  Descrizione: Simulazione di un Semplice Gioco di Ruolo con Combattimento: Scrivi una funzione `gioco_di_ruolo()` che simula un semplice combattimento tra un giocatore e un mostro:\n",
        "\n",
        "   * Il giocatore e il mostro hanno punti vita (PV) generati casualmente tra 50 e 100.\n",
        "   * A ogni turno, entrambi attaccano, infliggendo danni casuali tra 1 e 15.\n",
        "   * Il combattimento continua finché uno dei due non ha PV <= 0.\n",
        "   * Stampa il resoconto del combattimento ad ogni turno."
      ],
      "metadata": {
        "id": "Jv9yn0k1vLoJ"
      }
    },
    {
      "cell_type": "code",
      "source": [],
      "outputs": [
        {
          "output_type": "stream",
          "name": "stdout",
          "text": [
            "Punti vita iniziali giocatore:  54\n",
            "Punti vita iniziali mostro:  86\n",
            "\n",
            "\n",
            "Giocatore attacca e infligge 2 danni.\n",
            "Mostro attacca e infligge 12 danni.\n",
            "PV Giocatore: 42\n",
            "PV Mostro: 84\n",
            "Giocatore attacca e infligge 12 danni.\n",
            "Mostro attacca e infligge 10 danni.\n",
            "PV Giocatore: 32\n",
            "PV Mostro: 72\n",
            "Giocatore attacca e infligge 15 danni.\n",
            "Mostro attacca e infligge 4 danni.\n",
            "PV Giocatore: 28\n",
            "PV Mostro: 57\n",
            "Giocatore attacca e infligge 4 danni.\n",
            "Mostro attacca e infligge 15 danni.\n",
            "PV Giocatore: 13\n",
            "PV Mostro: 53\n",
            "Giocatore attacca e infligge 6 danni.\n",
            "Mostro attacca e infligge 13 danni.\n",
            "PV Giocatore: 0\n",
            "PV Mostro: 47\n",
            "Il mostro ha vinto!\n"
          ]
        }
      ],
      "execution_count": null,
      "metadata": {
        "colab": {
          "base_uri": "https://localhost:8080/"
        },
        "id": "dSWlJbcsvLoK",
        "outputId": "26dd3ef4-5ecb-4bc5-cd0c-16a73ef13b2f",
        "collapsed": true
      }
    },
    {
      "cell_type": "markdown",
      "source": [
        "6. Somma di una lista di numeri\n",
        "\n",
        "* Richiamo teorico: La ricorsione consiste nel definire una funzione che chiama se stessa. Un caso base è essenziale per evitare una ricorsione infinita.\n",
        "\n",
        "* Descrizione: Scrivi una funzione ricorsiva `somma_lista(lista)` che calcola la somma degli elementi di una lista di numeri interi."
      ],
      "metadata": {
        "id": "wqUou-aCe4Kw"
      }
    },
    {
      "cell_type": "code",
      "source": [],
      "metadata": {
        "id": "C19_OF0efSd3"
      },
      "execution_count": null,
      "outputs": []
    },
    {
      "cell_type": "markdown",
      "source": [
        "7. Ricerca di un elemento in una lista\n",
        "\n",
        "* Richiamo teorico: La ricorsione può essere usata per implementare algoritmi di ricerca.\n",
        "\n",
        "* Descrizione: Scrivi una funzione ricorsiva `ricerca_elemento(lista, elemento)` che cerca un elemento in una lista. La funzione deve restituire True se l'elemento è presente, False altrimenti."
      ],
      "metadata": {
        "id": "BrnM5lRyfV92"
      }
    },
    {
      "cell_type": "code",
      "source": [],
      "metadata": {
        "id": "ITk7VJKSfh8u"
      },
      "execution_count": null,
      "outputs": []
    },
    {
      "cell_type": "markdown",
      "source": [
        "8. Generazione di tutte le permutazioni di una stringa (Ricorsione con stringhe e liste)\n",
        "\n",
        "* Richiamo teorico: La permutazione di una stringa è una riorganizzazione dei suoi caratteri. La ricorsione si presta bene a generare tutte le possibili permutazioni.\n",
        "\n",
        "* Descrizione: Scrivi una funzione ricorsiva `permuta_stringa(stringa)` che restituisce una lista di stringhe contenente tutte le possibili permutazioni della stringa di input."
      ],
      "metadata": {
        "id": "BUGlTBeBfl_v"
      }
    },
    {
      "cell_type": "code",
      "source": [],
      "metadata": {
        "id": "JcS_zmv0fzcP"
      },
      "execution_count": null,
      "outputs": []
    },
    {
      "cell_type": "markdown",
      "source": [
        "9. Risoluzione di un labirinto (Ricorsione con backtracking)\n",
        "\n",
        "* Richiamo teorico: Il backtracking è una tecnica algoritmica per trovare soluzioni a problemi di ricerca incrementale, provando diverse alternative e tornando indietro (backtracking) se una di esse non porta a una soluzione.\n",
        "\n",
        "* Descrizione: Dato un labirinto rappresentato come una lista di liste (dove 1 rappresenta un muro e 0 uno spazio libero), scrivi una funzione ricorsiva `risolvi_labirinto(labirinto, riga, colonna)` che trova un percorso dalla posizione `(riga, colonna)` all'uscita del labirinto (considerando l'uscita come il bordo del labirinto). La funzione deve restituire una lista di liste che rappresenta il percorso trovato (ogni sottolista è una coordinata `[riga, colonna]`) o una lista vuota se non esiste un percorso."
      ],
      "metadata": {
        "id": "HU8WJKoRf1pu"
      }
    },
    {
      "cell_type": "code",
      "source": [],
      "metadata": {
        "colab": {
          "base_uri": "https://localhost:8080/"
        },
        "id": "Z2L0RghogH4P",
        "outputId": "44698e1e-0c86-4107-aaa4-ebbc4402b9e0",
        "collapsed": true
      },
      "execution_count": null,
      "outputs": [
        {
          "output_type": "stream",
          "name": "stdout",
          "text": [
            "Percorso trovato: [[1, 1], [1, 2], [1, 3], [2, 3], [3, 3], [3, 4], [4, 4]]\n",
            "Nessun percorso trovato nel labirinto senza uscita.\n",
            "Nessun percorso trovato nel labirinto con loop.\n"
          ]
        }
      ]
    },
    {
      "cell_type": "markdown",
      "source": [
        "10. Piramide\n",
        "\n",
        "* Descrizione: Scrivi una funzione ricorsiva `piramide_ricorsiva(n, livello=1)` che stampa una piramide di altezza `n` usando il carattere `*`. La piramide deve essere:\n",
        "\n",
        " * Piena: se `n` è un numero pari (tutti gli asterischi si estendono fino ai bordi).\n",
        " * Vuota: se `n` è un numero dispari (solo il contorno della piramide è composto da asterischi).\n",
        "\n",
        "Il parametro livello (con valore predefinito 1) tiene traccia del livello corrente della piramide durante le chiamate ricorsive."
      ],
      "metadata": {
        "id": "D-6j-Xk0iDUm"
      }
    },
    {
      "cell_type": "code",
      "source": [],
      "metadata": {
        "colab": {
          "base_uri": "https://localhost:8080/"
        },
        "id": "i1Qi-B8QgxCt",
        "outputId": "bed1ade7-1286-4da8-b8d8-ba66031f0b7b",
        "collapsed": true
      },
      "execution_count": null,
      "outputs": [
        {
          "output_type": "stream",
          "name": "stdout",
          "text": [
            "\n",
            "Piramide di altezza 4 (ricorsiva):\n",
            "   *\n",
            "  ***\n",
            " *****\n",
            "*******\n",
            "\n",
            "Piramide di altezza 5 (ricorsiva):\n",
            "    *\n",
            "   * *\n",
            "  *   *\n",
            " *     *\n",
            "*********\n",
            "\n",
            "Piramide di altezza 6 (ricorsiva):\n",
            "     *\n",
            "    ***\n",
            "   *****\n",
            "  *******\n",
            " *********\n",
            "***********\n",
            "\n",
            "Piramide di altezza 7 (ricorsiva):\n",
            "      *\n",
            "     * *\n",
            "    *   *\n",
            "   *     *\n",
            "  *       *\n",
            " *         *\n",
            "*************\n",
            "\n",
            "Piramide di altezza 8 (ricorsiva):\n",
            "       *\n",
            "      ***\n",
            "     *****\n",
            "    *******\n",
            "   *********\n",
            "  ***********\n",
            " *************\n",
            "***************\n",
            "\n",
            "Piramide di altezza 3 (ricorsiva):\n",
            "  *\n",
            " * *\n",
            "*****\n",
            "\n",
            "Piramide di altezza 2 (ricorsiva):\n",
            " *\n",
            "***\n",
            "\n",
            "Piramide di altezza 1 (ricorsiva):\n",
            "*\n",
            "\n",
            "Piramide di altezza 0 (ricorsiva):\n",
            "\n",
            "Piramide di altezza -2 (ricorsiva):\n",
            "\n",
            "Piramide di altezza 100 (ricorsiva):\n",
            "                                                                                                   *\n",
            "                                                                                                  ***\n",
            "                                                                                                 *****\n",
            "                                                                                                *******\n",
            "                                                                                               *********\n",
            "                                                                                              ***********\n",
            "                                                                                             *************\n",
            "                                                                                            ***************\n",
            "                                                                                           *****************\n",
            "                                                                                          *******************\n",
            "                                                                                         *********************\n",
            "                                                                                        ***********************\n",
            "                                                                                       *************************\n",
            "                                                                                      ***************************\n",
            "                                                                                     *****************************\n",
            "                                                                                    *******************************\n",
            "                                                                                   *********************************\n",
            "                                                                                  ***********************************\n",
            "                                                                                 *************************************\n",
            "                                                                                ***************************************\n",
            "                                                                               *****************************************\n",
            "                                                                              *******************************************\n",
            "                                                                             *********************************************\n",
            "                                                                            ***********************************************\n",
            "                                                                           *************************************************\n",
            "                                                                          ***************************************************\n",
            "                                                                         *****************************************************\n",
            "                                                                        *******************************************************\n",
            "                                                                       *********************************************************\n",
            "                                                                      ***********************************************************\n",
            "                                                                     *************************************************************\n",
            "                                                                    ***************************************************************\n",
            "                                                                   *****************************************************************\n",
            "                                                                  *******************************************************************\n",
            "                                                                 *********************************************************************\n",
            "                                                                ***********************************************************************\n",
            "                                                               *************************************************************************\n",
            "                                                              ***************************************************************************\n",
            "                                                             *****************************************************************************\n",
            "                                                            *******************************************************************************\n",
            "                                                           *********************************************************************************\n",
            "                                                          ***********************************************************************************\n",
            "                                                         *************************************************************************************\n",
            "                                                        ***************************************************************************************\n",
            "                                                       *****************************************************************************************\n",
            "                                                      *******************************************************************************************\n",
            "                                                     *********************************************************************************************\n",
            "                                                    ***********************************************************************************************\n",
            "                                                   *************************************************************************************************\n",
            "                                                  ***************************************************************************************************\n",
            "                                                 *****************************************************************************************************\n",
            "                                                *******************************************************************************************************\n",
            "                                               *********************************************************************************************************\n",
            "                                              ***********************************************************************************************************\n",
            "                                             *************************************************************************************************************\n",
            "                                            ***************************************************************************************************************\n",
            "                                           *****************************************************************************************************************\n",
            "                                          *******************************************************************************************************************\n",
            "                                         *********************************************************************************************************************\n",
            "                                        ***********************************************************************************************************************\n",
            "                                       *************************************************************************************************************************\n",
            "                                      ***************************************************************************************************************************\n",
            "                                     *****************************************************************************************************************************\n",
            "                                    *******************************************************************************************************************************\n",
            "                                   *********************************************************************************************************************************\n",
            "                                  ***********************************************************************************************************************************\n",
            "                                 *************************************************************************************************************************************\n",
            "                                ***************************************************************************************************************************************\n",
            "                               *****************************************************************************************************************************************\n",
            "                              *******************************************************************************************************************************************\n",
            "                             *********************************************************************************************************************************************\n",
            "                            ***********************************************************************************************************************************************\n",
            "                           *************************************************************************************************************************************************\n",
            "                          ***************************************************************************************************************************************************\n",
            "                         *****************************************************************************************************************************************************\n",
            "                        *******************************************************************************************************************************************************\n",
            "                       *********************************************************************************************************************************************************\n",
            "                      ***********************************************************************************************************************************************************\n",
            "                     *************************************************************************************************************************************************************\n",
            "                    ***************************************************************************************************************************************************************\n",
            "                   *****************************************************************************************************************************************************************\n",
            "                  *******************************************************************************************************************************************************************\n",
            "                 *********************************************************************************************************************************************************************\n",
            "                ***********************************************************************************************************************************************************************\n",
            "               *************************************************************************************************************************************************************************\n",
            "              ***************************************************************************************************************************************************************************\n",
            "             *****************************************************************************************************************************************************************************\n",
            "            *******************************************************************************************************************************************************************************\n",
            "           *********************************************************************************************************************************************************************************\n",
            "          ***********************************************************************************************************************************************************************************\n",
            "         *************************************************************************************************************************************************************************************\n",
            "        ***************************************************************************************************************************************************************************************\n",
            "       *****************************************************************************************************************************************************************************************\n",
            "      *******************************************************************************************************************************************************************************************\n",
            "     *********************************************************************************************************************************************************************************************\n",
            "    ***********************************************************************************************************************************************************************************************\n",
            "   *************************************************************************************************************************************************************************************************\n",
            "  ***************************************************************************************************************************************************************************************************\n",
            " *****************************************************************************************************************************************************************************************************\n",
            "*******************************************************************************************************************************************************************************************************\n"
          ]
        }
      ]
    },
    {
      "cell_type": "code",
      "source": [
        "# prompt: Scrivi un pezzo di codice e chiedine l'analisi da parte dell'utente\n",
        "\n",
        "import random\n",
        "def analizza_lista(lista_stringhe):\n",
        "    # ... (il codice della funzione analizza_lista rimane invariato)\n",
        "\n",
        "# ... (il resto del codice rimane invariato)"
      ],
      "metadata": {
        "id": "1pL5Qz4AXmog"
      },
      "execution_count": null,
      "outputs": []
    },
    {
      "cell_type": "markdown",
      "source": [
        "# **Esercizi di analisi del codice**"
      ],
      "metadata": {
        "id": "2_t_VIAhYVbV"
      }
    },
    {
      "cell_type": "markdown",
      "source": [
        "Esercizio 1"
      ],
      "metadata": {
        "id": "o_J3JTzpYc3a"
      }
    },
    {
      "cell_type": "code",
      "source": [
        "import random\n",
        "\n",
        "def genera_numeri(n):\n",
        "    numeri = []\n",
        "    for _ in range(n):\n",
        "        numeri.append(random.randint(1, 20))\n",
        "    return numeri\n",
        "\n",
        "def analizza_numeri(lista):\n",
        "    somma = 0\n",
        "    conteggio_pari = 0\n",
        "    for n in lista:\n",
        "        somma += n\n",
        "        if n % 2 == 0:\n",
        "            conteggio_pari += 1\n",
        "    return somma, conteggio_pari\n",
        "\n",
        "lista = genera_numeri(10)\n",
        "somma, pari = analizza_numeri(lista)\n",
        "print(\"Lista generata:\", lista)\n",
        "print(\"Somma totale:\", somma)\n",
        "print(\"Numeri pari:\", pari)\n"
      ],
      "metadata": {
        "colab": {
          "base_uri": "https://localhost:8080/"
        },
        "id": "_7dIKKk5YiD-",
        "outputId": "f6700c6d-93a7-48be-b1ce-4c51b5e7a516",
        "collapsed": true
      },
      "execution_count": null,
      "outputs": [
        {
          "output_type": "stream",
          "name": "stdout",
          "text": [
            "Lista generata: [7, 12, 1, 4, 17, 17, 12, 17, 19, 18]\n",
            "Somma totale: 124\n",
            "Numeri pari: 4\n"
          ]
        }
      ]
    },
    {
      "cell_type": "markdown",
      "source": [
        "Esercizio 2"
      ],
      "metadata": {
        "id": "ikylCSotYnoe"
      }
    },
    {
      "cell_type": "code",
      "source": [
        "import random\n",
        "\n",
        "def somma_recursiva(lista):\n",
        "    if not lista:\n",
        "        return 0\n",
        "    return lista[0] + somma_recursiva(lista[1:])\n",
        "\n",
        "numeri = [random.randint(1, 10) for _ in range(5)]\n",
        "print(\"Numeri:\", numeri)\n",
        "print(\"Somma ricorsiva:\", somma_recursiva(numeri))"
      ],
      "metadata": {
        "colab": {
          "base_uri": "https://localhost:8080/"
        },
        "id": "MZ9dFI3KY2KB",
        "outputId": "f1d559ab-0b78-4d19-9436-a700d7348c75",
        "collapsed": true
      },
      "execution_count": null,
      "outputs": [
        {
          "output_type": "stream",
          "name": "stdout",
          "text": [
            "Numeri: [1, 4, 1, 6, 5]\n",
            "Somma ricorsiva: 17\n"
          ]
        }
      ]
    },
    {
      "cell_type": "markdown",
      "source": [
        "Esercizio 3"
      ],
      "metadata": {
        "id": "Uw8tICSvY4gz"
      }
    },
    {
      "cell_type": "code",
      "source": [
        "numeri = [1, 2, 3, 4, 5]\n",
        "for n in numeri:\n",
        "    if n % 2:\n",
        "        print(f\"{n} è pari\")"
      ],
      "metadata": {
        "id": "Wfs6V7mxY6KR",
        "colab": {
          "base_uri": "https://localhost:8080/"
        },
        "outputId": "af3a2a36-0bbe-422f-af12-49630c525f0a",
        "collapsed": true
      },
      "execution_count": null,
      "outputs": [
        {
          "output_type": "stream",
          "name": "stdout",
          "text": [
            "1 è pari\n",
            "3 è pari\n",
            "5 è pari\n"
          ]
        }
      ]
    },
    {
      "cell_type": "markdown",
      "source": [
        "Esercizio 4"
      ],
      "metadata": {
        "id": "RW7xoOvlI9bj"
      }
    },
    {
      "cell_type": "code",
      "source": [
        "def aggiungi_elemento(lista, elemento):\n",
        "    lista = lista.append(elemento)\n",
        "    return lista\n",
        "\n",
        "numeri = [1, 2, 3]\n",
        "risultato = aggiungi_elemento(numeri, 4)\n",
        "print(risultato)"
      ],
      "metadata": {
        "colab": {
          "base_uri": "https://localhost:8080/"
        },
        "id": "y-3eOCALJA-m",
        "outputId": "5757c6f9-fb31-42c4-b44d-b95433254898",
        "collapsed": true
      },
      "execution_count": null,
      "outputs": [
        {
          "output_type": "stream",
          "name": "stdout",
          "text": [
            "None\n"
          ]
        }
      ]
    }
  ],
  "metadata": {
    "colab": {
      "provenance": []
    },
    "kernelspec": {
      "display_name": "Python 3",
      "name": "python3"
    }
  },
  "nbformat": 4,
  "nbformat_minor": 0
}